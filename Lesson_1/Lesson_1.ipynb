{
 "cells": [
  {
   "cell_type": "code",
   "execution_count": 1,
   "metadata": {},
   "outputs": [
    {
     "name": "stdout",
     "output_type": "stream",
     "text": [
      "Requirement already satisfied: pygame in /home/roman/anaconda3/lib/python3.8/site-packages (2.0.1)\n",
      "Requirement already satisfied: numpy in /home/roman/anaconda3/lib/python3.8/site-packages (1.19.2)\n"
     ]
    }
   ],
   "source": [
    "!pip install pygame\n",
    "!pip install numpy"
   ]
  },
  {
   "cell_type": "code",
   "execution_count": null,
   "metadata": {},
   "outputs": [],
   "source": [
    "import sys  \n",
    "import os        \n",
    "import pygame\n",
    "import numpy as np\n",
    "import math\n",
    "\n",
    "\n",
    "pygame.init()\n",
    "BG_COLOR = (0, 0, 0)\n",
    "screen = pygame.display.set_mode((600, 500), pygame.RESIZABLE)\n",
    "SCREEN_SIZE = screen.get_size()\n",
    "\n",
    "\n",
    "class Game:\n",
    "    def __init__(self, screen):\n",
    "        self.screen = screen\n",
    "        self.starship = Starship()\n",
    "        self.bullets = []\n",
    "        self.asteroids = []\n",
    "        \n",
    "    def handle_events(self):\n",
    "        for event in pygame.event.get():     \n",
    "            if event.type == pygame.QUIT:  \n",
    "                sys.exit()\n",
    "                \n",
    "    def move_objects(self, objects_list):\n",
    "        for obj_idx, _ in enumerate(objects_list):\n",
    "            for o_idx, _ in enumerate(objects_list[obj_idx]):\n",
    "                objects_list[obj_idx][o_idx].move()\n",
    "                \n",
    "    def draw(self, objects_list):      # self.draw([ self.starship, self.bullets, self.asteroids ])\n",
    "        self.screen.fill(BG_COLOR)\n",
    "        for objects in objects_list:\n",
    "            for obj in objects:\n",
    "                self.screen.blit(obj.image, obj.rect)\n",
    "        pygame.display.update()\n",
    "                \n",
    "    def run(self):\n",
    "        while True:\n",
    "            self.handle_events()\n",
    "            self.move_objects([[self.starship]])\n",
    "            self.draw([[self.starship]])\n",
    "        \n",
    "class Starship:\n",
    "    def __init__(self):\n",
    "        self.pos = np.array([SCREEN_SIZE[0] / 2, SCREEN_SIZE[1] / 2])\n",
    "        self.original_image = pygame.image.load(os.path.join(\"images\", \"starship.png\"))\n",
    "        self.image = self.original_image\n",
    "        self.rect = starship_rect = self.image.get_rect(center=self.pos)\n",
    "        \n",
    "    def move(self):\n",
    "        mouse_pos = pygame.mouse.get_pos()   # 300 200\n",
    "        direction = mouse_pos - self.pos\n",
    "        angle = self.calculate_angle(mouse_pos)\n",
    "        self.speed = direction / 30\n",
    "        self.pos += self.speed                # 250 250  + 4 5 = 254 255\n",
    "        self.image = pygame.transform.rotate(self.original_image, int(angle))\n",
    "        self.rect = self.image.get_rect(center=self.pos)\n",
    "        \n",
    "    def calculate_angle(self, mouse_pos):\n",
    "        rel_x, rel_y = mouse_pos - self.pos    \n",
    "        angle = (180 / math.pi) * -math.atan2(rel_y, rel_x) + 90\n",
    "        return angle\n",
    "        \n",
    "        \n",
    "game = Game(screen)\n",
    "game.run()"
   ]
  }
 ],
 "metadata": {
  "kernelspec": {
   "display_name": "Python 3",
   "language": "python",
   "name": "python3"
  },
  "language_info": {
   "codemirror_mode": {
    "name": "ipython",
    "version": 3
   },
   "file_extension": ".py",
   "mimetype": "text/x-python",
   "name": "python",
   "nbconvert_exporter": "python",
   "pygments_lexer": "ipython3",
   "version": "3.8.5"
  }
 },
 "nbformat": 4,
 "nbformat_minor": 4
}
