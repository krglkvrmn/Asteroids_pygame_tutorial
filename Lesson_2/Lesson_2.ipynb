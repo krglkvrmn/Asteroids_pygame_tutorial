{
 "cells": [
  {
   "cell_type": "code",
   "execution_count": 1,
   "metadata": {},
   "outputs": [
    {
     "name": "stdout",
     "output_type": "stream",
     "text": [
      "Requirement already satisfied: pygame in /home/roman/anaconda3/lib/python3.8/site-packages (2.0.1)\n",
      "Requirement already satisfied: numpy in /home/roman/anaconda3/lib/python3.8/site-packages (1.19.2)\n"
     ]
    }
   ],
   "source": [
    "!pip install pygame\n",
    "!pip install numpy"
   ]
  },
  {
   "cell_type": "code",
   "execution_count": 1,
   "metadata": {},
   "outputs": [
    {
     "name": "stdout",
     "output_type": "stream",
     "text": [
      "pygame 2.0.1 (SDL 2.0.14, Python 3.8.5)\n",
      "Hello from the pygame community. https://www.pygame.org/contribute.html\n"
     ]
    },
    {
     "ename": "SystemExit",
     "evalue": "",
     "output_type": "error",
     "traceback": [
      "An exception has occurred, use %tb to see the full traceback.\n",
      "\u001b[0;31mSystemExit\u001b[0m\n"
     ]
    },
    {
     "name": "stderr",
     "output_type": "stream",
     "text": [
      "/home/roman/anaconda3/lib/python3.8/site-packages/IPython/core/interactiveshell.py:3426: UserWarning: To exit: use 'exit', 'quit', or Ctrl-D.\n",
      "  warn(\"To exit: use 'exit', 'quit', or Ctrl-D.\", stacklevel=1)\n"
     ]
    }
   ],
   "source": [
    "import sys  \n",
    "import os        \n",
    "import pygame\n",
    "import numpy as np\n",
    "import math\n",
    "import time\n",
    "import random\n",
    "\n",
    "\n",
    "pygame.init()\n",
    "BG_COLOR = (0, 0, 0)\n",
    "screen = pygame.display.set_mode((600, 500), pygame.RESIZABLE)\n",
    "SCREEN_SIZE = screen.get_size()\n",
    "\n",
    "\n",
    "class Game:\n",
    "    def __init__(self, screen):\n",
    "        self.screen = screen\n",
    "        self.starship = Starship()\n",
    "        self.bullets = []\n",
    "        self.asteroids = []\n",
    "        self.mouse_pressed = False\n",
    "        self.fire_rate = 0.2 # 1 / 5\n",
    "        \n",
    "    def handle_events(self, frame):\n",
    "        for event in pygame.event.get():     \n",
    "            if event.type == pygame.QUIT:  \n",
    "                sys.exit()\n",
    "            if event.type == pygame.MOUSEBUTTONDOWN:\n",
    "                self.mouse_pressed = True\n",
    "            if event.type == pygame.MOUSEBUTTONUP:\n",
    "                self.mouse_pressed = False\n",
    "        if self.mouse_pressed == True and (time.time() - self.starship.last_bullet_time) > self.fire_rate:\n",
    "            new_bullet = self.starship.fire()\n",
    "            self.bullets.append(new_bullet)\n",
    "        if frame % 100 == 0:\n",
    "            self.asteroids.append(Asteroid())\n",
    "                \n",
    "    def move_objects(self, objects_list):\n",
    "        for obj_idx, _ in enumerate(objects_list):\n",
    "            for o_idx, _ in enumerate(objects_list[obj_idx]):\n",
    "                objects_list[obj_idx][o_idx].move()\n",
    "                \n",
    "    def draw(self, objects_list):\n",
    "        self.screen.fill(BG_COLOR)\n",
    "        for objects in objects_list:\n",
    "            for obj in objects:\n",
    "                self.screen.blit(obj.image, obj.rect)\n",
    "        pygame.display.update()\n",
    "        \n",
    "    def check_collisions(self):\n",
    "        asteroids_rects = []\n",
    "        for asteroid in self.asteroids:\n",
    "            asteroids_rects.append(asteroid.rect)\n",
    "            \n",
    "        for idx, bullet in enumerate(self.bullets):\n",
    "            if bullet.pos[0] > SCREEN_SIZE[0] or bullet.pos[1] > SCREEN_SIZE[1] or bullet.pos[0] < 0 or bullet.pos[1] < 0:\n",
    "                del self.bullets[idx]\n",
    "                \n",
    "        for idx, bullet in enumerate(self.bullets):\n",
    "            hit = bullet.rect.collidelist(asteroids_rects)   # -1 если столкновений нет\n",
    "            if hit != -1:\n",
    "                self.asteroids += self.asteroids[hit].explode()\n",
    "                del self.asteroids[hit]\n",
    "                del asteroids_rects[hit]\n",
    "                del self.bullets[idx]\n",
    "                \n",
    "        hit = self.starship.rect.collidelist(asteroids_rects)\n",
    "        if hit != -1:\n",
    "            sys.exit()\n",
    "                \n",
    "        \n",
    "                \n",
    "    def run(self):\n",
    "        frame = 0\n",
    "        clock = pygame.time.Clock()\n",
    "        while True:\n",
    "            clock.tick(60)\n",
    "            self.handle_events(frame)\n",
    "            self.check_collisions()\n",
    "            self.move_objects([[self.starship], self.bullets, self.asteroids])\n",
    "            self.draw([[self.starship], self.bullets, self.asteroids])\n",
    "            frame += 1\n",
    "        \n",
    "class Starship:\n",
    "    def __init__(self):\n",
    "        self.pos = np.array([SCREEN_SIZE[0] / 2, SCREEN_SIZE[1] / 2])\n",
    "        self.original_image = pygame.image.load(os.path.join(\"images\", \"starship.png\"))\n",
    "        self.image = self.original_image\n",
    "        self.rect = starship_rect = self.image.get_rect(center=self.pos)\n",
    "        self.last_bullet_time = 0\n",
    "        \n",
    "    def move(self):\n",
    "        mouse_pos = pygame.mouse.get_pos()   # 300 200\n",
    "        direction = mouse_pos - self.pos\n",
    "        angle = self.calculate_angle(mouse_pos)\n",
    "        self.speed = direction / 30\n",
    "        self.pos += self.speed                # 250 250  + 4 5 = 254 255\n",
    "        self.image = pygame.transform.rotate(self.original_image, int(angle))\n",
    "        self.rect = self.image.get_rect(center=self.pos)\n",
    "        \n",
    "    def calculate_angle(self, mouse_pos):\n",
    "        rel_x, rel_y = mouse_pos - self.pos    \n",
    "        angle = (180 / math.pi) * -math.atan2(rel_y, rel_x) + 90\n",
    "        return angle\n",
    "    \n",
    "    def fire(self):\n",
    "        self.last_bullet_time = time.time()\n",
    "        return Bullet(self.pos.copy())\n",
    "    \n",
    "    \n",
    "class Bullet:\n",
    "    original_image = pygame.image.load(os.path.join(\"images\", \"bullet.png\"))\n",
    "    def __init__(self, pos):\n",
    "        self.pos = pos\n",
    "        mouse_pos = pygame.mouse.get_pos()\n",
    "        self.direction = mouse_pos - self.pos\n",
    "        self.speed = self.direction / max(abs(self.direction)) * 10 \n",
    "        self.angle = self.calculate_angle(mouse_pos)\n",
    "        self.image = pygame.transform.rotate(self.original_image, int(self.angle))\n",
    "        self.rect = self.image.get_rect(center=self.pos)\n",
    "        \n",
    "    def move(self):\n",
    "        self.pos += self.speed\n",
    "        self.rect = self.image.get_rect(center=self.pos)\n",
    "    \n",
    "        \n",
    "    def calculate_angle(self, mouse_pos):\n",
    "        rel_x, rel_y = mouse_pos - self.pos    \n",
    "        angle = (180 / math.pi) * -math.atan2(rel_y, rel_x) + 90\n",
    "        return angle\n",
    "        \n",
    "class Asteroid:\n",
    "    ast_variants = [(\"small\", pygame.image.load(os.path.join(\"images\", \"ast1_small.png\")), (10, 10)),\n",
    "                   (\"small\", pygame.image.load(os.path.join(\"images\", \"ast2_small.png\")), (10, 10)),\n",
    "                   (\"small\", pygame.image.load(os.path.join(\"images\", \"ast3_small.png\")), (10, 10)),\n",
    "                   (\"small\", pygame.image.load(os.path.join(\"images\", \"ast4_small.png\")), (10, 10)),\n",
    "                   (\"medium\", pygame.image.load(os.path.join(\"images\", \"ast1_medium.png\")), (40, 40)),\n",
    "                   (\"medium\", pygame.image.load(os.path.join(\"images\", \"ast2_medium.png\")), (40, 40)),\n",
    "                   (\"medium\", pygame.image.load(os.path.join(\"images\", \"ast3_medium.png\")), (40, 40)),\n",
    "                   (\"medium\", pygame.image.load(os.path.join(\"images\", \"ast4_medium.png\")), (40, 40)),\n",
    "                   (\"large\", pygame.image.load(os.path.join(\"images\", \"ast1_large.png\")), (105, 105)),\n",
    "                   (\"large\", pygame.image.load(os.path.join(\"images\", \"ast2_large.png\")), (105, 105)),\n",
    "                   (\"large\", pygame.image.load(os.path.join(\"images\", \"ast3_large.png\")), (105, 105)),\n",
    "                   (\"large\", pygame.image.load(os.path.join(\"images\", \"ast4_large.png\")), (105, 105))]\n",
    "    \"\"\"\n",
    "    original_images = [pygame.image.load(os.path.join(\"images\", \"ast1_medium.png\")),\n",
    "                       pygame.image.load(os.path.join(\"images\", \"ast2_medium.png\")),\n",
    "                       pygame.image.load(os.path.join(\"images\", \"ast3_medium.png\")),\n",
    "                       pygame.image.load(os.path.join(\"images\", \"ast4_medium.png\"))]\n",
    "    \"\"\"\n",
    "    def __init__(self, pos=None, speed=None, ast_type=None):\n",
    "        if (pos is None) and (speed is None) and (ast_type is None):\n",
    "            self.init_rand_asteroid()\n",
    "        else:\n",
    "            self.init_asteroid_fragment(pos, speed, ast_type)\n",
    "        \n",
    "        \n",
    "    def init_rand_asteroid(self):\n",
    "        self.type, self.original_image, hitbox_shape = random.choice(self.ast_variants)\n",
    "        self.image = self.original_image\n",
    "        self.w, self.h = hitbox_shape\n",
    "        self.pos = random.choice([self.left_pos, self.right_pos, self.top_pos, self.bottom_pos])()\n",
    "        self.rect = self.image.get_rect(center=self.pos)\n",
    "        self.direction = pygame.mouse.get_pos() - self.pos\n",
    "        self.speed = self.direction / 300\n",
    "        \n",
    "    def init_asteroid_fragment(self, pos, speed, ast_type):\n",
    "        ast_type_variants = list(filter(lambda x: x[0] == ast_type, self.ast_variants))\n",
    "        self.type, self.original_image, hitbox_shape = random.choice(ast_type_variants)\n",
    "        self.pos = pos\n",
    "        self.image = self.original_image\n",
    "        self.rect = self.image.get_rect(center=self.pos)\n",
    "        self.speed = speed\n",
    "        \n",
    "        \n",
    "    def move(self):\n",
    "        self.check_borders()\n",
    "        self.pos += self.speed\n",
    "        self.rect = self.image.get_rect(center=self.pos)\n",
    "        \n",
    "    def left_pos(self):\n",
    "        return np.array([-150, random.uniform(0, SCREEN_SIZE[1])])\n",
    "    \n",
    "    def right_pos(self):\n",
    "        return np.array([SCREEN_SIZE[0] + 150, random.uniform(0, SCREEN_SIZE[1])])\n",
    "    \n",
    "    def top_pos(self):\n",
    "        return np.array([random.uniform(0, SCREEN_SIZE[0]), -150])\n",
    "    \n",
    "    def bottom_pos(self):\n",
    "        return np.array([random.uniform(0, SCREEN_SIZE[0]), SCREEN_SIZE[1] + 150])\n",
    "    \n",
    "    def check_borders(self):\n",
    "        if self.pos[0] > (SCREEN_SIZE[0] + 150):\n",
    "            self.pos[0] = -150\n",
    "        elif (self.pos[0] + 150) < 0:\n",
    "            self.pos[0] = SCREEN_SIZE[0] + 150\n",
    "        if (self.pos[1] - 150) > SCREEN_SIZE[1]:\n",
    "            self.pos[1] = -150\n",
    "        elif (self.pos[1] + 150) < 0:\n",
    "            self.pos[1] = SCREEN_SIZE[1] + 150\n",
    "        # self.rect = self.image.get_rect(center=self.pos)\n",
    "        \n",
    "    def explode(self):\n",
    "        fragments = []\n",
    "        if self.type == \"large\":\n",
    "            fragments += [Asteroid(self.pos_offset(), self.speed_offset(), \"medium\") for _ in range(2)]\n",
    "        if self.type == \"medium\":\n",
    "            fragments += [Asteroid(self.pos_offset(), self.speed_offset(), \"small\") for _ in range(3)]\n",
    "        if self.type == \"small\":\n",
    "            pass\n",
    "        return fragments\n",
    "    \n",
    "    def speed_offset(self):\n",
    "        offset = self.speed * 0.5 + np.random.uniform(-0.5, 0.5, 2)\n",
    "        return offset\n",
    "    \n",
    "    def pos_offset(self):\n",
    "        offset = self.pos + np.random.uniform(-10, 10, 2)\n",
    "        return offset\n",
    "        \n",
    "        \n",
    "game = Game(screen)\n",
    "game.run()"
   ]
  },
  {
   "cell_type": "code",
   "execution_count": null,
   "metadata": {},
   "outputs": [],
   "source": [
    "asteroids_rects = []\n",
    "        for asteroid in self.asteroids:\n",
    "            asteroid_rects.append(asteroid.rect)"
   ]
  },
  {
   "cell_type": "code",
   "execution_count": null,
   "metadata": {},
   "outputs": [],
   "source": [
    "asteroids_rects = [asteroid.rect for asteroid in self.asteroids]"
   ]
  },
  {
   "cell_type": "code",
   "execution_count": 1,
   "metadata": {},
   "outputs": [],
   "source": [
    "b = [number**2 for number in range(6)]"
   ]
  },
  {
   "cell_type": "code",
   "execution_count": 2,
   "metadata": {},
   "outputs": [
    {
     "data": {
      "text/plain": [
       "[0, 1, 4, 9, 16, 25]"
      ]
     },
     "execution_count": 2,
     "metadata": {},
     "output_type": "execute_result"
    }
   ],
   "source": [
    "b"
   ]
  },
  {
   "cell_type": "code",
   "execution_count": 9,
   "metadata": {},
   "outputs": [],
   "source": [
    "def is_even(x):\n",
    "    return x % 2 == 0"
   ]
  },
  {
   "cell_type": "code",
   "execution_count": 10,
   "metadata": {},
   "outputs": [
    {
     "data": {
      "text/plain": [
       "[2, 4]"
      ]
     },
     "execution_count": 10,
     "metadata": {},
     "output_type": "execute_result"
    }
   ],
   "source": [
    "list(filter(is_even, [1, 2, 3, 4, 5]))"
   ]
  },
  {
   "cell_type": "code",
   "execution_count": null,
   "metadata": {},
   "outputs": [],
   "source": []
  }
 ],
 "metadata": {
  "kernelspec": {
   "display_name": "Python 3",
   "language": "python",
   "name": "python3"
  },
  "language_info": {
   "codemirror_mode": {
    "name": "ipython",
    "version": 3
   },
   "file_extension": ".py",
   "mimetype": "text/x-python",
   "name": "python",
   "nbconvert_exporter": "python",
   "pygments_lexer": "ipython3",
   "version": "3.8.5"
  }
 },
 "nbformat": 4,
 "nbformat_minor": 4
}
