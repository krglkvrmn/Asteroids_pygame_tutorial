{
 "cells": [
  {
   "cell_type": "code",
   "execution_count": 1,
   "metadata": {},
   "outputs": [
    {
     "name": "stdout",
     "output_type": "stream",
     "text": [
      "pygame 2.0.1 (SDL 2.0.14, Python 3.8.5)\n",
      "Hello from the pygame community. https://www.pygame.org/contribute.html\n"
     ]
    }
   ],
   "source": [
    "import sys        \n",
    "import os         \n",
    "import pygame      \n",
    "import numpy as np\n",
    "import math\n",
    "import time\n",
    "import random"
   ]
  },
  {
   "cell_type": "code",
   "execution_count": 2,
   "metadata": {},
   "outputs": [
    {
     "ename": "SystemExit",
     "evalue": "",
     "output_type": "error",
     "traceback": [
      "An exception has occurred, use %tb to see the full traceback.\n",
      "\u001b[0;31mSystemExit\u001b[0m\n"
     ]
    },
    {
     "name": "stderr",
     "output_type": "stream",
     "text": [
      "/home/roman/anaconda3/lib/python3.8/site-packages/IPython/core/interactiveshell.py:3426: UserWarning: To exit: use 'exit', 'quit', or Ctrl-D.\n",
      "  warn(\"To exit: use 'exit', 'quit', or Ctrl-D.\", stacklevel=1)\n"
     ]
    }
   ],
   "source": [
    "pygame.init()\n",
    "BG_COLOR = (0, 0, 0)\n",
    "screen = pygame.display.set_mode((600, 500), pygame.RESIZABLE)\n",
    "SCREEN_SIZE = screen.get_size()\n",
    "\n",
    "\n",
    "class Game:\n",
    "    def  __init__(self, screen):     \n",
    "        self.screen = screen         \n",
    "        self.starship = Starship() \n",
    "        self.bullets = []           \n",
    "        self.asteroids = []\n",
    "        self.mouse_pressed = False\n",
    "        self.fire_rate = 0.2 \n",
    "\n",
    "    def handle_events(self, frame):\n",
    "        for event in pygame.event.get(): \n",
    "            if event.type == pygame.QUIT: \n",
    "                sys.exit()\n",
    "            if event.type == pygame.MOUSEBUTTONDOWN:\n",
    "                self.mouse_pressed = True\n",
    "            if event.type == pygame.MOUSEBUTTONUP:\n",
    "                self.mouse_pressed = False\n",
    "        if self.mouse_pressed and (time.time() - self.starship.last_bullet_time) > self.fire_rate:\n",
    "            new_bullet = self.starship.fire()     # Bullet(self.pos)\n",
    "            self.bullets.append(new_bullet)\n",
    "        if frame % 50 == 0:\n",
    "            self.asteroids.append(Asteroid())\n",
    "\n",
    "    def move_objects(self, objects_list):    \n",
    "        for obj_idx, _ in enumerate(objects_list): \n",
    "            for o_idx, _ in enumerate(objects_list[obj_idx]): \n",
    "                objects_list[obj_idx][o_idx].move()\n",
    "                \n",
    "    def check_collisions(self):\n",
    "        asteroids_rects = []\n",
    "        for asteroid in self.asteroids:\n",
    "            asteroids_rects.append(asteroid.rect)\n",
    "        #### Asteroids vs bullets\n",
    "        for idx, bullet in enumerate(self.bullets):\n",
    "            hit = bullet.rect.collidelist(asteroids_rects)\n",
    "            if hit != -1:\n",
    "                del self.asteroids[hit]\n",
    "                del self.bullets[idx]\n",
    "        ### Bullets vs borders\n",
    "        for idx, bullet in enumerate(self.bullets):\n",
    "            if bullet.pos[0] > SCREEN_SIZE[0] or bullet.pos[1] > SCREEN_SIZE[1] or bullet.pos[0] < 0 or bullet.pos[1] < 0:\n",
    "                del self.bullets[idx]\n",
    "        ### Starship vs Asteroids\n",
    "        hit = self.starship.rect.collidelist(asteroids_rects)\n",
    "        if hit != -1:\n",
    "            sys.exit()\n",
    "\n",
    "\n",
    "    def draw(self, objects_list):\n",
    "        screen.fill(BG_COLOR)\n",
    "        for objects in objects_list:\n",
    "            for obj in objects:\n",
    "                self.screen.blit(obj.image, obj.rect)\n",
    "        pygame.display.update()\n",
    "\n",
    "    def run(self):\n",
    "        clock = pygame.time.Clock()\n",
    "        frame = 0\n",
    "        while True:\n",
    "            clock.tick(60)\n",
    "            self.handle_events(frame)\n",
    "            self.check_collisions()\n",
    "            self.move_objects([[self.starship], self.bullets, self.asteroids])\n",
    "            self.draw([[self.starship], self.bullets, self.asteroids])\n",
    "            frame += 1\n",
    "\n",
    "class Starship:\n",
    "    def __init__(self):\n",
    "        self.pos = np.array([SCREEN_SIZE[0] / 2, SCREEN_SIZE[1] / 2])\n",
    "        self.original_image = pygame.image.load(os.path.join(\"images\", \"starship.png\"))\n",
    "        self.image = self.original_image\n",
    "        self.rect = self.image.get_rect(center=self.pos)\n",
    "        self.last_bullet_time = 0\n",
    "\n",
    "    def move(self):                    \n",
    "        mouse_pos = pygame.mouse.get_pos()   \n",
    "        direction = mouse_pos - self.pos     \n",
    "        angle = self.calculate_angle(mouse_pos) \n",
    "        self.speed = direction / 40         \n",
    "        self.pos += self.speed              \n",
    "        self.image = pygame.transform.rotate(self.original_image, int(angle))\n",
    "        self.rect = self.image.get_rect(center=self.pos) \n",
    "\n",
    "    def calculate_angle(self, mouse_pos):    \n",
    "        rel_x, rel_y = mouse_pos - self.pos  \n",
    "        angle = (180 / math.pi) * -math.atan2(rel_y, rel_x) + 90 \n",
    "        return angle\n",
    "    \n",
    "    def fire(self):\n",
    "        self.last_bullet_time = time.time()\n",
    "        return Bullet(self.pos.copy())\n",
    "    \n",
    "\n",
    "class Bullet:\n",
    "    original_image = pygame.image.load(os.path.join(\"images\", \"bullet.png\"))\n",
    "    \n",
    "    def __init__(self, pos):\n",
    "        self.pos = pos\n",
    "        mouse_pos = pygame.mouse.get_pos()\n",
    "        self.direction = mouse_pos - pos\n",
    "        self.speed = self.direction / max(abs(self.direction)) * 10\n",
    "        self.angle = self.calculate_angle(mouse_pos)\n",
    "        self.image = pygame.transform.rotate(self.original_image, int(self.angle))\n",
    "        self.rect = self.image.get_rect(center=self.pos)\n",
    "        \n",
    "    def calculate_angle(self, mouse_pos):    \n",
    "        rel_x, rel_y = mouse_pos - self.pos  \n",
    "        angle = (180 / math.pi) * -math.atan2(rel_y, rel_x) + 90 \n",
    "        return angle\n",
    "    \n",
    "    def move(self):\n",
    "        self.pos += self.speed\n",
    "        self.rect = self.image.get_rect(center=self.pos)\n",
    "\n",
    "class Asteroid:\n",
    "    original_images = [pygame.image.load(os.path.join(\"images\", \"ast1_medium.png\")),\n",
    "                       pygame.image.load(os.path.join(\"images\", \"ast2_medium.png\")),\n",
    "                       pygame.image.load(os.path.join(\"images\", \"ast3_medium.png\")),\n",
    "                       pygame.image.load(os.path.join(\"images\", \"ast4_medium.png\"))]\n",
    "    def __init__(self):\n",
    "        self.image = random.choice(self.original_images)\n",
    "        self.pos = random.choice([self.left_pos, self.right_pos, self.top_pos, self.bottom_pos])()\n",
    "        self.direction = pygame.mouse.get_pos() - self.pos\n",
    "        self.speed = self.direction / 250\n",
    "        self.rect = self.image.get_rect(center=self.pos)\n",
    "        \n",
    "    def left_pos(self):\n",
    "        return np.array((-150, random.uniform(0, SCREEN_SIZE[1])))\n",
    "    \n",
    "    def right_pos(self):\n",
    "        return np.array((SCREEN_SIZE[0] + 150, random.uniform(0, SCREEN_SIZE[1])))\n",
    "    \n",
    "    def top_pos(self):\n",
    "        return np.array((random.uniform(0, SCREEN_SIZE[0]), -150))\n",
    "    \n",
    "    def bottom_pos(self):\n",
    "        return np.array((random.uniform(0, SCREEN_SIZE[0]), SCREEN_SIZE[1] + 150))\n",
    "    \n",
    "    def move(self):\n",
    "        self.check_borders()\n",
    "        self.pos += self.speed\n",
    "        self.rect = self.image.get_rect(center=self.pos)\n",
    "        \n",
    "    def check_borders(self):\n",
    "        if self.pos[0] > (SCREEN_SIZE[0] + 150):\n",
    "            self.pos[0] = -150\n",
    "        elif (self.pos[0] + 150) < 0:\n",
    "            self.pos[0] = SCREEN_SIZE[0] + 150\n",
    "        elif (self.pos[1] - 150) > SCREEN_SIZE[1]:\n",
    "            self.pos[1] = -150\n",
    "        elif (self.pos[1] + 150) < 0:\n",
    "            self.pos[1] = SCREEN_SIZE[1] + 150\n",
    "        self.rect = self.image.get_rect(center=self.pos, width=10, height=10)\n",
    "        \n",
    "game = Game(screen)\n",
    "game.run()\n"
   ]
  },
  {
   "cell_type": "code",
   "execution_count": 4,
   "metadata": {},
   "outputs": [],
   "source": [
    "a = time.time()"
   ]
  },
  {
   "cell_type": "code",
   "execution_count": 5,
   "metadata": {},
   "outputs": [
    {
     "data": {
      "text/plain": [
       "6.165595293045044"
      ]
     },
     "execution_count": 5,
     "metadata": {},
     "output_type": "execute_result"
    }
   ],
   "source": [
    "time.time() - a"
   ]
  },
  {
   "cell_type": "code",
   "execution_count": 9,
   "metadata": {},
   "outputs": [
    {
     "data": {
      "text/plain": [
       "4"
      ]
     },
     "execution_count": 9,
     "metadata": {},
     "output_type": "execute_result"
    }
   ],
   "source": [
    "random.choice([1, 2, 3, 4])"
   ]
  },
  {
   "cell_type": "code",
   "execution_count": 15,
   "metadata": {},
   "outputs": [
    {
     "data": {
      "text/plain": [
       "-0.13138453564932684"
      ]
     },
     "execution_count": 15,
     "metadata": {},
     "output_type": "execute_result"
    }
   ],
   "source": [
    "random.uniform(-2, 2)"
   ]
  },
  {
   "cell_type": "code",
   "execution_count": null,
   "metadata": {},
   "outputs": [],
   "source": []
  }
 ],
 "metadata": {
  "kernelspec": {
   "display_name": "Python 3",
   "language": "python",
   "name": "python3"
  },
  "language_info": {
   "codemirror_mode": {
    "name": "ipython",
    "version": 3
   },
   "file_extension": ".py",
   "mimetype": "text/x-python",
   "name": "python",
   "nbconvert_exporter": "python",
   "pygments_lexer": "ipython3",
   "version": "3.8.5"
  }
 },
 "nbformat": 4,
 "nbformat_minor": 4
}
